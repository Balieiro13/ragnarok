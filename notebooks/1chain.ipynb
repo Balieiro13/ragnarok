{
 "cells": [
  {
   "cell_type": "code",
   "execution_count": 1,
   "metadata": {},
   "outputs": [],
   "source": [
    "import torch\n",
    "import chromadb\n",
    "\n",
    "from langchain.vectorstores import Chroma\n",
    "from langchain.embeddings import HuggingFaceEmbeddings\n",
    "from langchain.llms import HuggingFacePipeline\n",
    "\n",
    "from langchain.prompts import PromptTemplate\n",
    "from langchain.chains import LLMChain, RetrievalQA"
   ]
  },
  {
   "cell_type": "markdown",
   "metadata": {},
   "source": [
    "### Loading VectorDB"
   ]
  },
  {
   "cell_type": "code",
   "execution_count": 2,
   "metadata": {},
   "outputs": [
    {
     "name": "stderr",
     "output_type": "stream",
     "text": [
      "/home/balieiro/miniconda3/envs/llama/lib/python3.11/site-packages/tqdm/auto.py:21: TqdmWarning: IProgress not found. Please update jupyter and ipywidgets. See https://ipywidgets.readthedocs.io/en/stable/user_install.html\n",
      "  from .autonotebook import tqdm as notebook_tqdm\n"
     ]
    }
   ],
   "source": [
    "model_name = \"sentence-transformers/all-MiniLM-L6-v2\"\n",
    "model_kwargs = {'device': 'cuda'}\n",
    "encode_kwargs = {'normalize_embeddings': False}\n",
    "embedding_function = HuggingFaceEmbeddings(\n",
    "    model_name=model_name,\n",
    "    model_kwargs=model_kwargs,\n",
    "    encode_kwargs=encode_kwargs\n",
    ")\n",
    "\n",
    "client = chromadb.HttpClient(\n",
    "    host='localhost',\n",
    "    port=8000, \n",
    ")\n",
    "\n",
    "db = Chroma(\n",
    "    client=client, \n",
    "    collection_name=\"emb\", \n",
    "    embedding_function=embedding_function\n",
    ")\n",
    "\n",
    "retriever = db.as_retriever()"
   ]
  },
  {
   "cell_type": "code",
   "execution_count": 3,
   "metadata": {},
   "outputs": [
    {
     "data": {
      "text/plain": [
       "[Document(page_content='02/10/23 14:04Integração e Software - Flexibility Software\\nPage 4 of 11https://eng.embraer.com.br/mpa/integracao/Software/Flexibility.aspx      The parameter PDI could complement the information of the logic PDI. For instance, the parameter PDI could containattributes of the logic implemented in the PDI logic. See Figure 3, where a CAS message is used to illustrate this situation:', metadata={'page': 3, 'source': 'data/mpa2.pdf'}),\n",
       " Document(page_content='software.Logic and Parameter PDI: There could be PDIs allocated to the supplier or OEM load according to the flexibilitymodification scope. The OEM PDIs can only have logics or parameters allowed to be modified using the flexibilityapproach. OEM PDI files contents cannot negatively affect or make unauthorized changes in the supplier software.Possible Case:', metadata={'page': 2, 'source': 'data/mpa2.pdf'}),\n",
       " Document(page_content='Character Length;·         Read-only field versus modifiable field.·         Field contents validity (i.e. numeric only, alpha only, alphanumeric only). The exact extent of this robustness should be agreed with Certification Authorities, since this is a critical point to allow thePDI file to be separately verifiable.In addition, attention should be paid to the flight deck effects resulting from any errors in the PDI files. The aircraft is notdispatchable if an invalid PDI file is detected by', metadata={'page': 4, 'source': 'data/mpa2.pdf'}),\n",
       " Document(page_content='Software Flexibility [Edit]Main Characteristics (Desirable) [Edit]  •     All functions implemented to be customized only through Parameter Data Items (PDI)s, even for logic (interpreter typeengine). PDI files are defined in DO-178C [8] as: “A set of data that (…) influence the behavior of the software withoutmodifying the Executable Object Code”.•     Function engine application software must support multiple PDIs of the same type, each PDI with different attributes(e.g., to restrict types of', metadata={'page': 1, 'source': 'data/mpa2.pdf'})]"
      ]
     },
     "execution_count": 3,
     "metadata": {},
     "output_type": "execute_result"
    }
   ],
   "source": [
    "retriever.get_relevant_documents(\"what is a PDI?\")"
   ]
  },
  {
   "cell_type": "code",
   "execution_count": 4,
   "metadata": {},
   "outputs": [],
   "source": [
    "from transformers import AutoModelForCausalLM, AutoTokenizer, pipeline\n",
    "\n",
    "model_name_or_path = \"TheBloke/Llama-2-7B-GPTQ\"\n",
    "model = AutoModelForCausalLM.from_pretrained(model_name_or_path,\n",
    "                                            device_map={\"\": 0},\n",
    "                                            trust_remote_code=True,\n",
    "                                            torch_dtype=torch.bfloat16,\n",
    "                                            revision=\"main\")\n",
    "\n",
    "tokenizer = AutoTokenizer.from_pretrained(model_name_or_path, use_fast=True)\n",
    "pipe = pipeline(\n",
    "    \"text-generation\",\n",
    "    model=model,\n",
    "    tokenizer=tokenizer,\n",
    "    max_new_tokens=256,\n",
    "    do_sample=True,\n",
    "    temperature=0.1,\n",
    "    top_p=0.95,\n",
    "    top_k=10,\n",
    "    repetition_penalty=1.18,\n",
    ")\n",
    "\n",
    "llm = HuggingFacePipeline(pipeline=pipe)"
   ]
  },
  {
   "cell_type": "code",
   "execution_count": 5,
   "metadata": {},
   "outputs": [
    {
     "name": "stdout",
     "output_type": "stream",
     "text": [
      "\n",
      "\n",
      "\u001b[1m> Entering new LLMChain chain...\u001b[0m\n",
      "Prompt after formatting:\n",
      "\u001b[32;1m\u001b[1;3m\n",
      "You are an assistant that gives one answer for a question. Use the following context to answer the question. \n",
      "If you don't know the answer, just say that you don't know. Use three sentences maximum and keep the answer concise.\n",
      "\n",
      "Context: [Document(page_content='02/10/23 14:04Integração e Software - Flexibility Software\\nPage 4 of 11https://eng.embraer.com.br/mpa/integracao/Software/Flexibility.aspx      The parameter PDI could complement the information of the logic PDI. For instance, the parameter PDI could containattributes of the logic implemented in the PDI logic. See Figure 3, where a CAS message is used to illustrate this situation:', metadata={'page': 3, 'source': 'data/mpa2.pdf'}), Document(page_content='Software Flexibility [Edit]Main Characteristics (Desirable) [Edit]  •     All functions implemented to be customized only through Parameter Data Items (PDI)s, even for logic (interpreter typeengine). PDI files are defined in DO-178C [8] as: “A set of data that (…) influence the behavior of the software withoutmodifying the Executable Object Code”.•     Function engine application software must support multiple PDIs of the same type, each PDI with different attributes(e.g., to restrict types of', metadata={'page': 1, 'source': 'data/mpa2.pdf'}), Document(page_content='logics or Synoptics logics.·         Parameter PDI: it contains only data as numeric values, words or letters.In the case of the Logic PDI, the application software should implement a PDI interpreter for the boolean logics andcomputes them in real time.The application software receives and sends information through a data bus that could be backplane or interpartitioncommunication.Regarding the scope of the changes possible to be done using flexibility, there could be logics or parameters that', metadata={'page': 2, 'source': 'data/mpa2.pdf'}), Document(page_content='Character Length;·         Read-only field versus modifiable field.·         Field contents validity (i.e. numeric only, alpha only, alphanumeric only). The exact extent of this robustness should be agreed with Certification Authorities, since this is a critical point to allow thePDI file to be separately verifiable.In addition, attention should be paid to the flight deck effects resulting from any errors in the PDI files. The aircraft is notdispatchable if an invalid PDI file is detected by', metadata={'page': 4, 'source': 'data/mpa2.pdf'})] \n",
      "\n",
      "Question: What is a PDI? Which DO they are defined?\n",
      "\n",
      "Only return the helpful answer below and nothing else\n",
      "Helpful answer\n",
      "\u001b[0m\n"
     ]
    },
    {
     "name": "stderr",
     "output_type": "stream",
     "text": [
      "/home/balieiro/miniconda3/envs/llama/lib/python3.11/site-packages/transformers/generation/utils.py:1411: UserWarning: You have modified the pretrained model configuration to control generation. This is a deprecated strategy to control generation and will be removed soon, in a future version. Please use a generation configuration file (see https://huggingface.co/docs/transformers/main_classes/text_generation )\n",
      "  warnings.warn(\n"
     ]
    },
    {
     "name": "stdout",
     "output_type": "stream",
     "text": [
      "\n",
      "\u001b[1m> Finished chain.\u001b[0m\n",
      "\n",
      "Answer: A PDI stands for \"Parameter Data Item\". They are defined in DO-178C which is a standard for avionics software development.\n",
      "\n"
     ]
    }
   ],
   "source": [
    "template = \"\"\"\n",
    "You are an assistant that gives one answer for a question. Use the following context to answer the question. \n",
    "If you don't know the answer, just say that you don't know. Use three sentences maximum and keep the answer concise.\n",
    "\n",
    "Context: {context} \n",
    "\n",
    "Question: {question}\n",
    "\n",
    "Only return the helpful answer below and nothing else\n",
    "Helpful answer\n",
    "\"\"\"\n",
    "\n",
    "prompt = PromptTemplate(\n",
    "    input_variables=['context', 'question'],\n",
    "    template=template,\n",
    ")\n",
    "\n",
    "chain = LLMChain(llm=llm, prompt=prompt, verbose=True)\n",
    "\n",
    "question = \"What is a PDI? Which DO they are defined?\"\n",
    "context = retriever.get_relevant_documents(question)\n",
    "response = chain.run({\"context\": context,\n",
    "                      \"question\": question})\n",
    "print(response)"
   ]
  },
  {
   "cell_type": "code",
   "execution_count": 6,
   "metadata": {},
   "outputs": [
    {
     "name": "stdout",
     "output_type": "stream",
     "text": [
      "\n",
      "\n",
      "\u001b[1m> Entering new LLMChain chain...\u001b[0m\n",
      "Prompt after formatting:\n",
      "\u001b[32;1m\u001b[1;3m\n",
      "You are an assistant that gives one answer for a question. Use the following context to answer the question. \n",
      "If you don't know the answer, just say that you don't know. Use three sentences maximum and keep the answer concise.\n",
      "\n",
      "Context: [Document(page_content='to be considered:- RBAC/14CFR/CS 25.795(b)(3), Cargo compartment fire suppression- RBAC/14CFR/CS 25.851(b), Built-in fire extinguishers- RBAC/14CFR/CS 25.855, Cargo or baggage compartments- RBAC/14CFR/CS 25.857, Cargo compartment classification- RBAC/14CFR 121.161, Airplane limitations: Type of route - RBAC/14CFR 135.164, Maximum flying time outside the United StatesSpecific regulation is provided for ETOPS approval and additional information is available in the Embraer MPA for ETOPS:- 14CFR', metadata={'page': 0, 'source': 'data/mpa1.pdf'}), Document(page_content='to show compliance with requirements by adopting the guidelinesfrom FAA Memoranduns 97-113-110 (AUG 18 1997) and 97-113-143 (OCT 29 1997). Minimum concentration shall be maintained for entirediversion flight until aircraft can be safely landed and it is typically designed to flight over a 60-minute diversion time. If extended operations isrequired, then system shall be designed to provide fire suppression capability as per ETOPS guidelines.Main regulation and guidance to be considered:-', metadata={'page': 0, 'source': 'data/mpa1.pdf'}), Document(page_content='Page 2 of 2https://eng.embraer.com.br/mpa/sistemas_interiores/Fire%20Suppression%20System/2.1-REGULATION%20AND%20STANDARDS.aspx- FAA AC 25.857-1, Class B and F Cargo Compartments- NFPA 12A, Standard on Halon 1301 Fire Extinguishing SystemsSpecific regulation is provided for ETOPS approval and additional information is available in the Embraer MPA for ETOPS:- FAA AC 120-42B, Extended Operations (ETOPS and Polar operations) - EASA AMC 20-6 Rev 2, Extended Range Operation with Two-Engine', metadata={'page': 1, 'source': 'data/mpa1.pdf'}), Document(page_content='development, being specific for this system and equipment. Complete list ofapplicable requirements and related means of compliance shall be discussed and agreed with certification office in accordance with project characteristics.Guidance Material [Edit]Main documents to be considered:- EASA AMC 25.851(b), Built-in fire extinguishers- EASA AMC to 25.855 and 25.857, Cargo or baggage compartments- FAA AC 25-22, Certification of transport airplane mechanical systems (Sections 25.851, 25.855,', metadata={'page': 0, 'source': 'data/mpa1.pdf'})] \n",
      "\n",
      "Question: Could you list all specific regulations which are provided for ETOPS?\n",
      "\n",
      "Only return the helpful answer below and nothing else\n",
      "Helpful answer\n",
      "\u001b[0m\n"
     ]
    },
    {
     "name": "stdout",
     "output_type": "stream",
     "text": [
      "\n",
      "\u001b[1m> Finished chain.\u001b[0m\n",
      "The main document to consider is EASA AMC 25.851(b), Built-in fire extinguisher.\n",
      "\n",
      "Answer: The main document to consider is EASA AMC 25.851(b), Built-in fire extinguisher.\n"
     ]
    }
   ],
   "source": [
    "question = \"Could you list all specific regulations which are provided for ETOPS?\"\n",
    "context = retriever.get_relevant_documents(question)\n",
    "response = chain.run({\"context\": context,\n",
    "                      \"question\": question})\n",
    "print(response)"
   ]
  },
  {
   "cell_type": "code",
   "execution_count": 7,
   "metadata": {},
   "outputs": [],
   "source": [
    "\n",
    "template=\"\"\"Use the following pieces of information to answer the user's question.\n",
    "If you dont know the answer just say you don't  know, don't try to make up an answer.\n",
    "Context:{context}\n",
    "Question:{question}\n",
    "Only return the helpful answer below and nothing else\n",
    "Helpful answer\n",
    "\"\"\"\n",
    "\n",
    "qa_prompt=PromptTemplate(template=template, input_variables=['context', 'question'])\n",
    "\n",
    "#start=timeit.default_timer()\n",
    "\n",
    "chain = RetrievalQA.from_chain_type(llm=llm,\n",
    "                                   chain_type='stuff',\n",
    "                                   retriever=retriever,\n",
    "                                   chain_type_kwargs={'prompt': qa_prompt},\n",
    "                                   verbose=True)\n"
   ]
  },
  {
   "cell_type": "code",
   "execution_count": 8,
   "metadata": {},
   "outputs": [
    {
     "name": "stdout",
     "output_type": "stream",
     "text": [
      "\n",
      "\n",
      "\u001b[1m> Entering new RetrievalQA chain...\u001b[0m\n",
      "\n",
      "\u001b[1m> Finished chain.\u001b[0m\n",
      "Answer: A PDI is a Parameter Data Item which can be used to define the configuration of the system. It is defined in DO-178C.\n",
      "\n",
      "Answer: A PDI is a Parameter Data Item which can be used to define the configuration of the system. It is defined in DO-178C.\n",
      "\n",
      "Answer: A PDI is a Parameter Data Item which can be used to define the configuration of the system. It is defined in DO-178C.\n",
      "\\end{code}\n"
     ]
    }
   ],
   "source": [
    "question = \"What is a PDI? Which DO they are defined?\"\n",
    "result=chain({'query':question})\n",
    "print(result['result'])"
   ]
  },
  {
   "cell_type": "code",
   "execution_count": 9,
   "metadata": {},
   "outputs": [
    {
     "name": "stdout",
     "output_type": "stream",
     "text": [
      "\n",
      "\n",
      "\u001b[1m> Entering new RetrievalQA chain...\u001b[0m\n",
      "\n",
      "\u001b[1m> Finished chain.\u001b[0m\n",
      "The following are some of the main regulations that apply to the design of fire protection systems used in commercial aviation:\n",
      "FAA Advisory Circular No. 25.857 – Class B and Flammable Liquid Cargo Compartment Protection\n",
      "FAA Advisory Circular No. 25.855 – Cargo or Baggage Compartment Classification\n",
      "FAA Advisory Circular No. 25.851 – Built-In Fire Extinguisher Installation Requirements\n",
      "FAA Advisory Circular No. 25.851 – Built-In Fire Extinguisher Inspection Procedures\n",
      "FAA Advisory Circular No. 25.851 – Built-In Fire Extinguisher Maintenance Procedures\n",
      "FAA Advisory Circular No. 25.857 – Class B and Flammable Liquids Cargo Compartment Protection\n",
      "EASA AD 20-0089 – Extension of Time Limit for Complying With the New Standards for Fire Fighting Equipment\n",
      "EASA AD 20-\n"
     ]
    }
   ],
   "source": [
    "question = \"How many specific regulations are provided for ETOPS?\"\n",
    "result=chain({'query':question})\n",
    "print(result['result'])"
   ]
  }
 ],
 "metadata": {
  "kernelspec": {
   "display_name": "ldm",
   "language": "python",
   "name": "python3"
  },
  "language_info": {
   "codemirror_mode": {
    "name": "ipython",
    "version": 3
   },
   "file_extension": ".py",
   "mimetype": "text/x-python",
   "name": "python",
   "nbconvert_exporter": "python",
   "pygments_lexer": "ipython3",
   "version": "3.11.5"
  }
 },
 "nbformat": 4,
 "nbformat_minor": 2
}
